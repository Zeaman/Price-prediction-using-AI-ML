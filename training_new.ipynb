{
 "cells": [
  {
   "cell_type": "markdown",
   "id": "27a91ed0",
   "metadata": {},
   "source": [
    "## Title: AI/ML based price prediction using Recurrent Nueral Network (RNN) called Long Short Term Memort (LSTM): Predict by using raw data provided by some company "
   ]
  },
  {
   "cell_type": "markdown",
   "id": "2750c528",
   "metadata": {},
   "source": [
    "### 1. Install and import rquired libraries "
   ]
  },
  {
   "cell_type": "code",
   "execution_count": 17,
   "id": "10ec0da6",
   "metadata": {
    "collapsed": true
   },
   "outputs": [
    {
     "name": "stdout",
     "output_type": "stream",
     "text": [
      "Requirement already satisfied: numpy in d:\\ai\\prediction\\lib\\site-packages (1.23.1)\n",
      "Requirement already satisfied: pandas in d:\\ai\\prediction\\lib\\site-packages (1.4.3)\n",
      "Requirement already satisfied: python-dateutil>=2.8.1 in d:\\ai\\prediction\\lib\\site-packages (from pandas) (2.8.2)\n",
      "Requirement already satisfied: pytz>=2020.1 in d:\\ai\\prediction\\lib\\site-packages (from pandas) (2022.1)\n",
      "Requirement already satisfied: numpy>=1.18.5 in d:\\ai\\prediction\\lib\\site-packages (from pandas) (1.23.1)\n",
      "Requirement already satisfied: six>=1.5 in d:\\ai\\prediction\\lib\\site-packages (from python-dateutil>=2.8.1->pandas) (1.16.0)\n",
      "Requirement already satisfied: pandas_datareader in d:\\ai\\prediction\\lib\\site-packages (0.10.0)\n",
      "Requirement already satisfied: requests>=2.19.0 in d:\\ai\\prediction\\lib\\site-packages (from pandas_datareader) (2.28.1)\n",
      "Requirement already satisfied: pandas>=0.23 in d:\\ai\\prediction\\lib\\site-packages (from pandas_datareader) (1.4.3)\n",
      "Requirement already satisfied: lxml in d:\\ai\\prediction\\lib\\site-packages (from pandas_datareader) (4.9.1)\n",
      "Requirement already satisfied: numpy>=1.18.5 in d:\\ai\\prediction\\lib\\site-packages (from pandas>=0.23->pandas_datareader) (1.23.1)\n",
      "Requirement already satisfied: pytz>=2020.1 in d:\\ai\\prediction\\lib\\site-packages (from pandas>=0.23->pandas_datareader) (2022.1)\n",
      "Requirement already satisfied: python-dateutil>=2.8.1 in d:\\ai\\prediction\\lib\\site-packages (from pandas>=0.23->pandas_datareader) (2.8.2)\n",
      "Requirement already satisfied: urllib3<1.27,>=1.21.1 in d:\\ai\\prediction\\lib\\site-packages (from requests>=2.19.0->pandas_datareader) (1.26.11)\n",
      "Requirement already satisfied: certifi>=2017.4.17 in d:\\ai\\prediction\\lib\\site-packages (from requests>=2.19.0->pandas_datareader) (2022.6.15)\n",
      "Requirement already satisfied: charset-normalizer<3,>=2 in d:\\ai\\prediction\\lib\\site-packages (from requests>=2.19.0->pandas_datareader) (2.1.0)\n",
      "Requirement already satisfied: idna<4,>=2.5 in d:\\ai\\prediction\\lib\\site-packages (from requests>=2.19.0->pandas_datareader) (3.3)\n",
      "Requirement already satisfied: six>=1.5 in d:\\ai\\prediction\\lib\\site-packages (from python-dateutil>=2.8.1->pandas>=0.23->pandas_datareader) (1.16.0)\n",
      "Requirement already satisfied: matplotlib in d:\\ai\\prediction\\lib\\site-packages (3.5.2)\n",
      "Requirement already satisfied: cycler>=0.10 in d:\\ai\\prediction\\lib\\site-packages (from matplotlib) (0.11.0)\n",
      "Requirement already satisfied: python-dateutil>=2.7 in d:\\ai\\prediction\\lib\\site-packages (from matplotlib) (2.8.2)\n",
      "Requirement already satisfied: packaging>=20.0 in d:\\ai\\prediction\\lib\\site-packages (from matplotlib) (21.3)\n",
      "Requirement already satisfied: fonttools>=4.22.0 in d:\\ai\\prediction\\lib\\site-packages (from matplotlib) (4.34.4)\n",
      "Requirement already satisfied: pillow>=6.2.0 in d:\\ai\\prediction\\lib\\site-packages (from matplotlib) (9.2.0)\n",
      "Requirement already satisfied: pyparsing>=2.2.1 in d:\\ai\\prediction\\lib\\site-packages (from matplotlib) (3.0.9)\n",
      "Requirement already satisfied: kiwisolver>=1.0.1 in d:\\ai\\prediction\\lib\\site-packages (from matplotlib) (1.4.4)\n",
      "Requirement already satisfied: numpy>=1.17 in d:\\ai\\prediction\\lib\\site-packages (from matplotlib) (1.23.1)\n",
      "Requirement already satisfied: six>=1.5 in d:\\ai\\prediction\\lib\\site-packages (from python-dateutil>=2.7->matplotlib) (1.16.0)\n",
      "Collecting sklearn\n",
      "  Using cached sklearn-0.0.tar.gz (1.1 kB)\n",
      "  Preparing metadata (setup.py): started\n",
      "  Preparing metadata (setup.py): finished with status 'done'\n",
      "Collecting scikit-learn\n",
      "  Using cached scikit_learn-1.1.2-cp39-cp39-win_amd64.whl (7.4 MB)\n",
      "Requirement already satisfied: numpy>=1.17.3 in d:\\ai\\prediction\\lib\\site-packages (from scikit-learn->sklearn) (1.23.1)\n",
      "Collecting scipy>=1.3.2\n",
      "  Downloading scipy-1.9.0-cp39-cp39-win_amd64.whl (38.6 MB)\n",
      "     --------------------------------------- 38.6/38.6 MB 13.5 kB/s eta 0:00:00\n",
      "Collecting joblib>=1.0.0\n",
      "  Using cached joblib-1.1.0-py2.py3-none-any.whl (306 kB)\n",
      "Collecting threadpoolctl>=2.0.0\n",
      "  Using cached threadpoolctl-3.1.0-py3-none-any.whl (14 kB)\n",
      "Using legacy 'setup.py install' for sklearn, since package 'wheel' is not installed.\n",
      "Installing collected packages: threadpoolctl, scipy, joblib, scikit-learn, sklearn\n",
      "  Running setup.py install for sklearn: started\n",
      "  Running setup.py install for sklearn: finished with status 'done'\n",
      "Successfully installed joblib-1.1.0 scikit-learn-1.1.2 scipy-1.9.0 sklearn-0.0 threadpoolctl-3.1.0\n"
     ]
    },
    {
     "name": "stderr",
     "output_type": "stream",
     "text": [
      "WARNING: Retrying (Retry(total=4, connect=None, read=None, redirect=None, status=None)) after connection broken by 'ReadTimeoutError(\"HTTPSConnectionPool(host='pypi.org', port=443): Read timed out. (read timeout=15)\")': /simple/joblib/\n"
     ]
    },
    {
     "name": "stdout",
     "output_type": "stream",
     "text": [
      "Collecting sklearn\n",
      "  Downloading sklearn-0.0.tar.gz (1.1 kB)\n",
      "  Preparing metadata (setup.py): started\n",
      "  Preparing metadata (setup.py): finished with status 'done'\n",
      "Collecting scikit-learn\n",
      "  Downloading scikit_learn-1.1.2-cp39-cp39-win_amd64.whl (7.4 MB)\n",
      "     ---------------------------------------- 7.4/7.4 MB 28.2 kB/s eta 0:00:00\n",
      "Collecting joblib>=1.0.0\n",
      "  Downloading joblib-1.1.0-py2.py3-none-any.whl (306 kB)\n",
      "     ------------------------------------- 307.0/307.0 kB 26.4 kB/s eta 0:00:00\n",
      "Collecting scipy>=1.3.2\n",
      "  Downloading scipy-1.9.0-cp39-cp39-win_amd64.whl (38.6 MB)\n",
      "     --------------------------------------- 38.6/38.6 MB 22.9 kB/s eta 0:00:00\n",
      "Requirement already satisfied: numpy>=1.17.3 in d:\\ai\\prediction\\lib\\site-packages (from scikit-learn->sklearn) (1.23.1)\n",
      "Collecting threadpoolctl>=2.0.0\n",
      "  Using cached threadpoolctl-3.1.0-py3-none-any.whl (14 kB)\n",
      "Using legacy 'setup.py install' for sklearn, since package 'wheel' is not installed.\n",
      "Installing collected packages: threadpoolctl, scipy, joblib, scikit-learn, sklearn\n",
      "  Running setup.py install for sklearn: started\n",
      "  Running setup.py install for sklearn: finished with status 'done'\n",
      "Successfully installed joblib-1.1.0 scikit-learn-1.1.2 scipy-1.9.0 sklearn-0.0 threadpoolctl-3.1.0\n"
     ]
    },
    {
     "name": "stderr",
     "output_type": "stream",
     "text": [
      "WARNING: Retrying (Retry(total=4, connect=None, read=None, redirect=None, status=None)) after connection broken by 'ReadTimeoutError(\"HTTPSConnectionPool(host='pypi.org', port=443): Read timed out. (read timeout=15)\")': /simple/threadpoolctl/\n"
     ]
    },
    {
     "name": "stdout",
     "output_type": "stream",
     "text": [
      "Collecting sklearn\n",
      "  Using cached sklearn-0.0.tar.gz (1.1 kB)\n",
      "  Preparing metadata (setup.py): started\n",
      "  Preparing metadata (setup.py): finished with status 'done'\n",
      "Collecting scikit-learn\n",
      "  Using cached scikit_learn-1.1.2-cp39-cp39-win_amd64.whl (7.4 MB)\n",
      "Collecting joblib>=1.0.0\n",
      "  Using cached joblib-1.1.0-py2.py3-none-any.whl (306 kB)\n",
      "Collecting scipy>=1.3.2\n",
      "  Downloading scipy-1.9.0-cp39-cp39-win_amd64.whl (38.6 MB)\n",
      "     --------------------------------------- 38.6/38.6 MB 28.3 kB/s eta 0:00:00\n",
      "Requirement already satisfied: numpy>=1.17.3 in d:\\ai\\prediction\\lib\\site-packages (from scikit-learn->sklearn) (1.23.1)\n",
      "Collecting threadpoolctl>=2.0.0\n",
      "  Using cached threadpoolctl-3.1.0-py3-none-any.whl (14 kB)\n",
      "Using legacy 'setup.py install' for sklearn, since package 'wheel' is not installed.\n",
      "Installing collected packages: threadpoolctl, scipy, joblib, scikit-learn, sklearn\n",
      "  Running setup.py install for sklearn: started\n",
      "  Running setup.py install for sklearn: finished with status 'done'\n",
      "Successfully installed joblib-1.1.0 scikit-learn-1.1.2 scipy-1.9.0 sklearn-0.0 threadpoolctl-3.1.0\n"
     ]
    },
    {
     "name": "stderr",
     "output_type": "stream",
     "text": [
      "WARNING: Retrying (Retry(total=4, connect=None, read=None, redirect=None, status=None)) after connection broken by 'ReadTimeoutError(\"HTTPSConnectionPool(host='pypi.org', port=443): Read timed out. (read timeout=15)\")': /simple/threadpoolctl/\n"
     ]
    },
    {
     "name": "stdout",
     "output_type": "stream",
     "text": [
      "Collecting sklearn\n",
      "  Using cached sklearn-0.0.tar.gz (1.1 kB)\n",
      "  Preparing metadata (setup.py): started\n",
      "  Preparing metadata (setup.py): finished with status 'done'\n",
      "Collecting scikit-learn\n",
      "  Using cached scikit_learn-1.1.2-cp39-cp39-win_amd64.whl (7.4 MB)\n",
      "Collecting threadpoolctl>=2.0.0\n",
      "  Downloading threadpoolctl-3.1.0-py3-none-any.whl (14 kB)\n",
      "Collecting scipy>=1.3.2\n",
      "  Downloading scipy-1.9.0-cp39-cp39-win_amd64.whl (38.6 MB)\n",
      "     --------------------------------------- 38.6/38.6 MB 41.8 kB/s eta 0:00:00\n",
      "Collecting joblib>=1.0.0\n",
      "  Using cached joblib-1.1.0-py2.py3-none-any.whl (306 kB)\n",
      "Requirement already satisfied: numpy>=1.17.3 in d:\\ai\\prediction\\lib\\site-packages (from scikit-learn->sklearn) (1.23.1)\n",
      "Using legacy 'setup.py install' for sklearn, since package 'wheel' is not installed.\n",
      "Installing collected packages: threadpoolctl, scipy, joblib, scikit-learn, sklearn\n",
      "  Running setup.py install for sklearn: started\n",
      "  Running setup.py install for sklearn: finished with status 'done'\n",
      "Successfully installed joblib-1.1.0 scikit-learn-1.1.2 scipy-1.9.0 sklearn-0.0 threadpoolctl-3.1.0\n"
     ]
    },
    {
     "name": "stderr",
     "output_type": "stream",
     "text": [
      "WARNING: Retrying (Retry(total=4, connect=None, read=None, redirect=None, status=None)) after connection broken by 'ReadTimeoutError(\"HTTPSConnectionPool(host='pypi.org', port=443): Read timed out. (read timeout=15)\")': /simple/joblib/\n"
     ]
    },
    {
     "name": "stdout",
     "output_type": "stream",
     "text": [
      "Requirement already satisfied: scikit-learn in d:\\ai\\prediction\\lib\\site-packages (1.1.2)\n",
      "Requirement already satisfied: scipy in d:\\ai\\prediction\\lib\\site-packages (1.9.0)\n",
      "Requirement already satisfied: matplotlib in d:\\ai\\prediction\\lib\\site-packages (3.5.2)\n",
      "Requirement already satisfied: threadpoolctl>=2.0.0 in d:\\ai\\prediction\\lib\\site-packages (from scikit-learn) (3.1.0)\n",
      "Requirement already satisfied: joblib>=1.0.0 in d:\\ai\\prediction\\lib\\site-packages (from scikit-learn) (1.1.0)\n",
      "Requirement already satisfied: numpy>=1.17.3 in d:\\ai\\prediction\\lib\\site-packages (from scikit-learn) (1.23.1)\n",
      "Requirement already satisfied: pillow>=6.2.0 in d:\\ai\\prediction\\lib\\site-packages (from matplotlib) (9.2.0)\n",
      "Requirement already satisfied: fonttools>=4.22.0 in d:\\ai\\prediction\\lib\\site-packages (from matplotlib) (4.34.4)\n",
      "Requirement already satisfied: python-dateutil>=2.7 in d:\\ai\\prediction\\lib\\site-packages (from matplotlib) (2.8.2)\n",
      "Requirement already satisfied: cycler>=0.10 in d:\\ai\\prediction\\lib\\site-packages (from matplotlib) (0.11.0)\n",
      "Requirement already satisfied: pyparsing>=2.2.1 in d:\\ai\\prediction\\lib\\site-packages (from matplotlib) (3.0.9)\n",
      "Requirement already satisfied: kiwisolver>=1.0.1 in d:\\ai\\prediction\\lib\\site-packages (from matplotlib) (1.4.4)\n",
      "Requirement already satisfied: packaging>=20.0 in d:\\ai\\prediction\\lib\\site-packages (from matplotlib) (21.3)\n",
      "Requirement already satisfied: six>=1.5 in d:\\ai\\prediction\\lib\\site-packages (from python-dateutil>=2.7->matplotlib) (1.16.0)\n"
     ]
    }
   ],
   "source": [
    "# intsall required libarries\n",
    "!pip install numpy\n",
    "!pip install pandas\n",
    "!pip install pandas_datareader\n",
    "!pip install matplotlib\n",
    "!pip install sklearn\n",
    "!pip install -U scikit-learn scipy matplotlib"
   ]
  },
  {
   "cell_type": "code",
   "execution_count": 21,
   "id": "b2016214",
   "metadata": {
    "collapsed": true
   },
   "outputs": [
    {
     "name": "stdout",
     "output_type": "stream",
     "text": [
      "Collecting tensorflow\n",
      "  Using cached tensorflow-2.9.1-cp39-cp39-win_amd64.whl (444.0 MB)\n",
      "Collecting keras<2.10.0,>=2.9.0rc0\n",
      "  Using cached keras-2.9.0-py2.py3-none-any.whl (1.6 MB)\n",
      "Collecting google-pasta>=0.1.1\n",
      "  Using cached google_pasta-0.2.0-py3-none-any.whl (57 kB)\n",
      "Requirement already satisfied: six>=1.12.0 in d:\\ai\\prediction\\lib\\site-packages (from tensorflow) (1.16.0)\n",
      "Collecting astunparse>=1.6.0\n",
      "  Using cached astunparse-1.6.3-py2.py3-none-any.whl (12 kB)\n",
      "Collecting termcolor>=1.1.0\n",
      "  Using cached termcolor-1.1.0-py3-none-any.whl\n",
      "Collecting tensorboard<2.10,>=2.9\n",
      "  Using cached tensorboard-2.9.1-py3-none-any.whl (5.8 MB)\n",
      "Collecting h5py>=2.9.0\n",
      "  Using cached h5py-3.7.0-cp39-cp39-win_amd64.whl (2.6 MB)\n",
      "Collecting opt-einsum>=2.3.2\n",
      "  Using cached opt_einsum-3.3.0-py3-none-any.whl (65 kB)\n",
      "Collecting typing-extensions>=3.6.6\n",
      "  Using cached typing_extensions-4.3.0-py3-none-any.whl (25 kB)\n",
      "Collecting gast<=0.4.0,>=0.2.1\n",
      "  Using cached gast-0.4.0-py3-none-any.whl (9.8 kB)\n",
      "Collecting tensorflow-estimator<2.10.0,>=2.9.0rc0\n",
      "  Using cached tensorflow_estimator-2.9.0-py2.py3-none-any.whl (438 kB)\n",
      "Requirement already satisfied: setuptools in d:\\ai\\prediction\\lib\\site-packages (from tensorflow) (57.4.0)\n",
      "Collecting wrapt>=1.11.0\n",
      "  Using cached wrapt-1.14.1-cp39-cp39-win_amd64.whl (35 kB)\n",
      "Collecting tensorflow-io-gcs-filesystem>=0.23.1\n",
      "  Using cached tensorflow_io_gcs_filesystem-0.26.0-cp39-cp39-win_amd64.whl (1.5 MB)\n",
      "Requirement already satisfied: packaging in d:\\ai\\prediction\\lib\\site-packages (from tensorflow) (21.3)\n",
      "Collecting libclang>=13.0.0\n",
      "  Downloading libclang-14.0.6-py2.py3-none-win_amd64.whl (14.2 MB)\n",
      "     --------------------------------------- 14.2/14.2 MB 14.6 kB/s eta 0:00:00\n",
      "Collecting protobuf<3.20,>=3.9.2\n",
      "  Using cached protobuf-3.19.4-cp39-cp39-win_amd64.whl (895 kB)\n",
      "Collecting absl-py>=1.0.0\n",
      "  Using cached absl_py-1.2.0-py3-none-any.whl (123 kB)\n",
      "Collecting flatbuffers<2,>=1.12\n",
      "  Using cached flatbuffers-1.12-py2.py3-none-any.whl (15 kB)\n",
      "Collecting grpcio<2.0,>=1.24.3\n",
      "  Using cached grpcio-1.47.0-cp39-cp39-win_amd64.whl (3.6 MB)\n",
      "Collecting keras-preprocessing>=1.1.1\n",
      "  Using cached Keras_Preprocessing-1.1.2-py2.py3-none-any.whl (42 kB)\n",
      "Requirement already satisfied: numpy>=1.20 in d:\\ai\\prediction\\lib\\site-packages (from tensorflow) (1.23.1)\n",
      "Collecting wheel<1.0,>=0.23.0\n",
      "  Using cached wheel-0.37.1-py2.py3-none-any.whl (35 kB)\n",
      "Collecting tensorboard-plugin-wit>=1.6.0\n",
      "  Using cached tensorboard_plugin_wit-1.8.1-py3-none-any.whl (781 kB)\n",
      "Collecting markdown>=2.6.8\n",
      "  Using cached Markdown-3.4.1-py3-none-any.whl (93 kB)\n",
      "Collecting google-auth-oauthlib<0.5,>=0.4.1\n",
      "  Using cached google_auth_oauthlib-0.4.6-py2.py3-none-any.whl (18 kB)\n",
      "Collecting tensorboard-data-server<0.7.0,>=0.6.0\n",
      "  Using cached tensorboard_data_server-0.6.1-py3-none-any.whl (2.4 kB)\n",
      "Requirement already satisfied: requests<3,>=2.21.0 in d:\\ai\\prediction\\lib\\site-packages (from tensorboard<2.10,>=2.9->tensorflow) (2.28.1)\n",
      "Collecting google-auth<3,>=1.6.3\n",
      "  Downloading google_auth-2.10.0-py2.py3-none-any.whl (167 kB)\n",
      "     ------------------------------------- 167.2/167.2 kB 45.3 kB/s eta 0:00:00\n",
      "Collecting werkzeug>=1.0.1\n",
      "  Downloading Werkzeug-2.2.1-py3-none-any.whl (232 kB)\n",
      "     ------------------------------------- 232.4/232.4 kB 23.3 kB/s eta 0:00:00\n",
      "Requirement already satisfied: pyparsing!=3.0.5,>=2.0.2 in d:\\ai\\prediction\\lib\\site-packages (from packaging->tensorflow) (3.0.9)\n",
      "Collecting rsa<5,>=3.1.4\n",
      "  Downloading rsa-4.9-py3-none-any.whl (34 kB)\n",
      "Collecting cachetools<6.0,>=2.0.0\n",
      "  Using cached cachetools-5.2.0-py3-none-any.whl (9.3 kB)\n",
      "Collecting pyasn1-modules>=0.2.1\n",
      "  Using cached pyasn1_modules-0.2.8-py2.py3-none-any.whl (155 kB)\n",
      "Collecting requests-oauthlib>=0.7.0\n",
      "  Using cached requests_oauthlib-1.3.1-py2.py3-none-any.whl (23 kB)\n",
      "Collecting importlib-metadata>=4.4\n",
      "  Using cached importlib_metadata-4.12.0-py3-none-any.whl (21 kB)\n",
      "Requirement already satisfied: idna<4,>=2.5 in d:\\ai\\prediction\\lib\\site-packages (from requests<3,>=2.21.0->tensorboard<2.10,>=2.9->tensorflow) (3.3)\n",
      "Requirement already satisfied: urllib3<1.27,>=1.21.1 in d:\\ai\\prediction\\lib\\site-packages (from requests<3,>=2.21.0->tensorboard<2.10,>=2.9->tensorflow) (1.26.11)\n",
      "Requirement already satisfied: certifi>=2017.4.17 in d:\\ai\\prediction\\lib\\site-packages (from requests<3,>=2.21.0->tensorboard<2.10,>=2.9->tensorflow) (2022.6.15)\n",
      "Requirement already satisfied: charset-normalizer<3,>=2 in d:\\ai\\prediction\\lib\\site-packages (from requests<3,>=2.21.0->tensorboard<2.10,>=2.9->tensorflow) (2.1.0)\n",
      "Collecting MarkupSafe>=2.1.1\n",
      "  Downloading MarkupSafe-2.1.1-cp39-cp39-win_amd64.whl (17 kB)\n",
      "Collecting zipp>=0.5\n",
      "  Using cached zipp-3.8.1-py3-none-any.whl (5.6 kB)\n",
      "Collecting pyasn1<0.5.0,>=0.4.6\n",
      "  Using cached pyasn1-0.4.8-py2.py3-none-any.whl (77 kB)\n",
      "Collecting oauthlib>=3.0.0\n",
      "  Using cached oauthlib-3.2.0-py3-none-any.whl (151 kB)\n",
      "Installing collected packages: termcolor, tensorboard-plugin-wit, pyasn1, libclang, keras, flatbuffers, zipp, wrapt, wheel, typing-extensions, tensorflow-io-gcs-filesystem, tensorflow-estimator, tensorboard-data-server, rsa, pyasn1-modules, protobuf, opt-einsum, oauthlib, MarkupSafe, keras-preprocessing, h5py, grpcio, google-pasta, gast, cachetools, absl-py, werkzeug, requests-oauthlib, importlib-metadata, google-auth, astunparse, markdown, google-auth-oauthlib, tensorboard, tensorflow\n",
      "Successfully installed MarkupSafe-2.1.1 absl-py-1.2.0 astunparse-1.6.3 cachetools-5.2.0 flatbuffers-1.12 gast-0.4.0 google-auth-2.10.0 google-auth-oauthlib-0.4.6 google-pasta-0.2.0 grpcio-1.47.0 h5py-3.7.0 importlib-metadata-4.12.0 keras-2.9.0 keras-preprocessing-1.1.2 libclang-14.0.6 markdown-3.4.1 oauthlib-3.2.0 opt-einsum-3.3.0 protobuf-3.19.4 pyasn1-0.4.8 pyasn1-modules-0.2.8 requests-oauthlib-1.3.1 rsa-4.9 tensorboard-2.9.1 tensorboard-data-server-0.6.1 tensorboard-plugin-wit-1.8.1 tensorflow-2.9.1 tensorflow-estimator-2.9.0 tensorflow-io-gcs-filesystem-0.26.0 termcolor-1.1.0 typing-extensions-4.3.0 werkzeug-2.2.1 wheel-0.37.1 wrapt-1.14.1 zipp-3.8.1\n"
     ]
    },
    {
     "name": "stderr",
     "output_type": "stream",
     "text": [
      "  WARNING: Retrying (Retry(total=4, connect=None, read=None, redirect=None, status=None)) after connection broken by 'ConnectTimeoutError(<pip._vendor.urllib3.connection.HTTPSConnection object at 0x0000027C8E8D5850>, 'Connection to files.pythonhosted.org timed out. (connect timeout=15)')': /packages/b3/68/9f50ea16dd6194623223feb681ab79a7642e42c493aadcdf27f2d899ff70/libclang-14.0.6-py2.py3-none-win_amd64.whl\n",
      "WARNING: Retrying (Retry(total=4, connect=None, read=None, redirect=None, status=None)) after connection broken by 'ReadTimeoutError(\"HTTPSConnectionPool(host='pypi.org', port=443): Read timed out. (read timeout=15)\")': /simple/protobuf/\n"
     ]
    }
   ],
   "source": [
    "!pip install tensorflow"
   ]
  },
  {
   "cell_type": "code",
   "execution_count": 22,
   "id": "14e16376",
   "metadata": {},
   "outputs": [],
   "source": [
    "#First import important libraries for this project\n",
    "import math\n",
    "import keras\n",
    "import numpy as np\n",
    "import pandas as pd\n",
    "import pandas_datareader as web\n",
    "import matplotlib.pyplot as plt\n",
    "from sklearn.preprocessing import MinMaxScaler\n",
    "from keras.models import Sequential\n",
    "from keras.layers import Dense,LSTM\n",
    "plt.style.use('fivethirtyeight')"
   ]
  },
  {
   "cell_type": "markdown",
   "id": "05217874",
   "metadata": {},
   "source": [
    "### 2. Get the stock quote's data frame (df)"
   ]
  },
  {
   "cell_type": "code",
   "execution_count": 28,
   "id": "00962658",
   "metadata": {},
   "outputs": [],
   "source": [
    "df = web.DataReader('AAPL', data_source='yahoo', start='2015-04-04', end='2022-04-04')"
   ]
  },
  {
   "cell_type": "code",
   "execution_count": 29,
   "id": "04ce39e3",
   "metadata": {},
   "outputs": [
    {
     "data": {
      "text/html": [
       "<div>\n",
       "<style scoped>\n",
       "    .dataframe tbody tr th:only-of-type {\n",
       "        vertical-align: middle;\n",
       "    }\n",
       "\n",
       "    .dataframe tbody tr th {\n",
       "        vertical-align: top;\n",
       "    }\n",
       "\n",
       "    .dataframe thead th {\n",
       "        text-align: right;\n",
       "    }\n",
       "</style>\n",
       "<table border=\"1\" class=\"dataframe\">\n",
       "  <thead>\n",
       "    <tr style=\"text-align: right;\">\n",
       "      <th></th>\n",
       "      <th>High</th>\n",
       "      <th>Low</th>\n",
       "      <th>Open</th>\n",
       "      <th>Close</th>\n",
       "      <th>Volume</th>\n",
       "      <th>Adj Close</th>\n",
       "    </tr>\n",
       "    <tr>\n",
       "      <th>Date</th>\n",
       "      <th></th>\n",
       "      <th></th>\n",
       "      <th></th>\n",
       "      <th></th>\n",
       "      <th></th>\n",
       "      <th></th>\n",
       "    </tr>\n",
       "  </thead>\n",
       "  <tbody>\n",
       "    <tr>\n",
       "      <th>2015-04-06</th>\n",
       "      <td>31.877501</td>\n",
       "      <td>31.082500</td>\n",
       "      <td>31.117500</td>\n",
       "      <td>31.837500</td>\n",
       "      <td>148776000.0</td>\n",
       "      <td>28.819185</td>\n",
       "    </tr>\n",
       "    <tr>\n",
       "      <th>2015-04-07</th>\n",
       "      <td>32.029999</td>\n",
       "      <td>31.495001</td>\n",
       "      <td>31.910000</td>\n",
       "      <td>31.502501</td>\n",
       "      <td>140049200.0</td>\n",
       "      <td>28.515947</td>\n",
       "    </tr>\n",
       "    <tr>\n",
       "      <th>2015-04-08</th>\n",
       "      <td>31.600000</td>\n",
       "      <td>31.242500</td>\n",
       "      <td>31.462500</td>\n",
       "      <td>31.400000</td>\n",
       "      <td>149316800.0</td>\n",
       "      <td>28.423166</td>\n",
       "    </tr>\n",
       "    <tr>\n",
       "      <th>2015-04-09</th>\n",
       "      <td>31.645000</td>\n",
       "      <td>31.165001</td>\n",
       "      <td>31.462500</td>\n",
       "      <td>31.639999</td>\n",
       "      <td>129936000.0</td>\n",
       "      <td>28.640411</td>\n",
       "    </tr>\n",
       "    <tr>\n",
       "      <th>2015-04-10</th>\n",
       "      <td>31.802500</td>\n",
       "      <td>31.315001</td>\n",
       "      <td>31.487499</td>\n",
       "      <td>31.775000</td>\n",
       "      <td>160752000.0</td>\n",
       "      <td>28.762611</td>\n",
       "    </tr>\n",
       "    <tr>\n",
       "      <th>...</th>\n",
       "      <td>...</td>\n",
       "      <td>...</td>\n",
       "      <td>...</td>\n",
       "      <td>...</td>\n",
       "      <td>...</td>\n",
       "      <td>...</td>\n",
       "    </tr>\n",
       "    <tr>\n",
       "      <th>2022-03-29</th>\n",
       "      <td>179.009995</td>\n",
       "      <td>176.339996</td>\n",
       "      <td>176.690002</td>\n",
       "      <td>178.960007</td>\n",
       "      <td>100589400.0</td>\n",
       "      <td>178.449570</td>\n",
       "    </tr>\n",
       "    <tr>\n",
       "      <th>2022-03-30</th>\n",
       "      <td>179.610001</td>\n",
       "      <td>176.699997</td>\n",
       "      <td>178.550003</td>\n",
       "      <td>177.770004</td>\n",
       "      <td>92633200.0</td>\n",
       "      <td>177.262970</td>\n",
       "    </tr>\n",
       "    <tr>\n",
       "      <th>2022-03-31</th>\n",
       "      <td>178.029999</td>\n",
       "      <td>174.399994</td>\n",
       "      <td>177.839996</td>\n",
       "      <td>174.610001</td>\n",
       "      <td>103049300.0</td>\n",
       "      <td>174.111984</td>\n",
       "    </tr>\n",
       "    <tr>\n",
       "      <th>2022-04-01</th>\n",
       "      <td>174.880005</td>\n",
       "      <td>171.940002</td>\n",
       "      <td>174.029999</td>\n",
       "      <td>174.309998</td>\n",
       "      <td>78751300.0</td>\n",
       "      <td>173.812836</td>\n",
       "    </tr>\n",
       "    <tr>\n",
       "      <th>2022-04-04</th>\n",
       "      <td>178.490005</td>\n",
       "      <td>174.440002</td>\n",
       "      <td>174.570007</td>\n",
       "      <td>178.440002</td>\n",
       "      <td>76468400.0</td>\n",
       "      <td>177.931061</td>\n",
       "    </tr>\n",
       "  </tbody>\n",
       "</table>\n",
       "<p>1764 rows × 6 columns</p>\n",
       "</div>"
      ],
      "text/plain": [
       "                  High         Low        Open       Close       Volume  \\\n",
       "Date                                                                      \n",
       "2015-04-06   31.877501   31.082500   31.117500   31.837500  148776000.0   \n",
       "2015-04-07   32.029999   31.495001   31.910000   31.502501  140049200.0   \n",
       "2015-04-08   31.600000   31.242500   31.462500   31.400000  149316800.0   \n",
       "2015-04-09   31.645000   31.165001   31.462500   31.639999  129936000.0   \n",
       "2015-04-10   31.802500   31.315001   31.487499   31.775000  160752000.0   \n",
       "...                ...         ...         ...         ...          ...   \n",
       "2022-03-29  179.009995  176.339996  176.690002  178.960007  100589400.0   \n",
       "2022-03-30  179.610001  176.699997  178.550003  177.770004   92633200.0   \n",
       "2022-03-31  178.029999  174.399994  177.839996  174.610001  103049300.0   \n",
       "2022-04-01  174.880005  171.940002  174.029999  174.309998   78751300.0   \n",
       "2022-04-04  178.490005  174.440002  174.570007  178.440002   76468400.0   \n",
       "\n",
       "             Adj Close  \n",
       "Date                    \n",
       "2015-04-06   28.819185  \n",
       "2015-04-07   28.515947  \n",
       "2015-04-08   28.423166  \n",
       "2015-04-09   28.640411  \n",
       "2015-04-10   28.762611  \n",
       "...                ...  \n",
       "2022-03-29  178.449570  \n",
       "2022-03-30  177.262970  \n",
       "2022-03-31  174.111984  \n",
       "2022-04-01  173.812836  \n",
       "2022-04-04  177.931061  \n",
       "\n",
       "[1764 rows x 6 columns]"
      ]
     },
     "execution_count": 29,
     "metadata": {},
     "output_type": "execute_result"
    }
   ],
   "source": [
    "df"
   ]
  },
  {
   "cell_type": "markdown",
   "id": "58ecd1c1",
   "metadata": {},
   "source": [
    "#### Notice from the above result/output, rowXcolumn is 1764X6 "
   ]
  },
  {
   "cell_type": "code",
   "execution_count": 97,
   "id": "ddd2de49",
   "metadata": {},
   "outputs": [
    {
     "data": {
      "image/png": "[encoded data removed]",
      "text/plain": [
       "<Figure size 1008x576 with 1 Axes>"
      ]
     },
     "metadata": {
      "needs_background": "light"
     },
     "output_type": "display_data"
    }
   ],
   "source": [
    "#visualize the close price history as:  \n",
    "plt.figure(figsize=(14,8))\n",
    "plt.title('Close price history')\n",
    "plt.plot(df['Close'])\n",
    "plt.xlabel('Years', fontsize=16)\n",
    "plt.ylabel('Close price in USD($)',fontsize=16)\n",
    "plt.legend(['Values'], loc='lower right')\n",
    "plt.show()"
   ]
  },
  {
   "cell_type": "code",
   "execution_count": 37,
   "id": "a6ae95c4",
   "metadata": {},
   "outputs": [
    {
     "name": "stdout",
     "output_type": "stream",
     "text": [
      "[[ 31.83749962]\n",
      " [ 31.50250053]\n",
      " [ 31.39999962]\n",
      " ...\n",
      " [174.61000061]\n",
      " [174.30999756]\n",
      " [178.44000244]]\n",
      "1412\n"
     ]
    }
   ],
   "source": [
    "#Create a new dataframe with only the 'Close column' called data\n",
    "data = df.filter(['Close'])\n",
    "#Convert the dataframe to a numpy array as:\n",
    "dataset = data.values\n",
    "#Get the number of rows to train the model on\n",
    "training_data_len = math.ceil(len(dataset)*0.8)\n",
    "print(dataset)\n",
    "print(training_data_len)"
   ]
  },
  {
   "cell_type": "code",
   "execution_count": 44,
   "id": "0c0305ad",
   "metadata": {},
   "outputs": [
    {
     "name": "stdout",
     "output_type": "stream",
     "text": [
      "[[0.0580367 ]\n",
      " [0.0559354 ]\n",
      " [0.05529246]\n",
      " ...\n",
      " [0.95358323]\n",
      " [0.95170144]\n",
      " [0.97760707]]\n"
     ]
    }
   ],
   "source": [
    "#Scale the dataset between 0 to 1:\n",
    "scaler = MinMaxScaler(feature_range=(0,1)) # range should be 0 to 1\n",
    "scaled_data = scaler.fit_transform(dataset) # transform the dataset by the above scale\n",
    "print(scaled_data)"
   ]
  },
  {
   "cell_type": "markdown",
   "id": "2cc58b2f",
   "metadata": {},
   "source": [
    "### 3. Create the training data set from the above data "
   ]
  },
  {
   "cell_type": "code",
   "execution_count": 115,
   "id": "9a2a524b",
   "metadata": {},
   "outputs": [
    {
     "name": "stdout",
     "output_type": "stream",
     "text": [
      "[array([0.0580367 , 0.0559354 , 0.05529246, 0.05679787, 0.05764467,\n",
      "       0.05725263, 0.05639016, 0.05714286, 0.0561863 , 0.05395955,\n",
      "       0.05842873, 0.05734673, 0.06002823, 0.06167477, 0.06263134,\n",
      "       0.06634781, 0.06307041, 0.0600596 , 0.05458681, 0.06054571,\n",
      "       0.06015368, 0.0556061 , 0.05436727, 0.0547593 , 0.0584601 ,\n",
      "       0.05642152, 0.05571587, 0.0559354 , 0.06054571, 0.06026346,\n",
      "       0.06249021, 0.06230204, 0.06228635, 0.06437197, 0.06617531,\n",
      "       0.06159636, 0.06539125, 0.06498354, 0.06263134, 0.06303904,\n",
      "       0.06212955, 0.06238043, 0.06118866, 0.06007527, 0.05874237,\n",
      "       0.05814647, 0.06043596, 0.05998118, 0.05775443, 0.0573624 ,\n",
      "       0.05842873, 0.0579583 , 0.05886781, 0.0568606 , 0.05844442,\n",
      "       0.0575349 , 0.05922849, 0.05827192, 0.05709582, 0.05361456])]\n",
      "[0.05502588203675576]\n",
      "\n"
     ]
    }
   ],
   "source": [
    "#First create the scaled training data set\n",
    "train_data = scaled_data[0:training_data_len, :]\n",
    "#Split the data into test(x) and train(y) data as:\n",
    "x_train = []\n",
    "y_train = []\n",
    "\n",
    "for i in range(60, len(train_data)):\n",
    "    x_train.append(train_data[i-60:i, 0])\n",
    "    y_train.append(train_data[i, 0])\n",
    "    if i<=60:\n",
    "        print(x_train)\n",
    "        print(y_train)\n",
    "        print()"
   ]
  },
  {
   "cell_type": "code",
   "execution_count": 116,
   "id": "e36b54f5",
   "metadata": {},
   "outputs": [],
   "source": [
    "#Convert the above x_train & y_train dataset to numpy arrays:\n",
    "x_train = np.array(x_train)\n",
    "y_train = np.array(y_train)"
   ]
  },
  {
   "cell_type": "code",
   "execution_count": 117,
   "id": "1448178c",
   "metadata": {},
   "outputs": [
    {
     "name": "stdout",
     "output_type": "stream",
     "text": [
      "(1352, 60, 1)\n"
     ]
    }
   ],
   "source": [
    "#Reshape the data to be read by LSTM RNN i.e. 3D array\n",
    "x_train = np.reshape(x_train, (x_train.shape[0], x_train.shape[1], 1))\n",
    "#Then th 3D array is:\n",
    "print(x_train.shape)\n",
    " "
   ]
  },
  {
   "cell_type": "markdown",
   "id": "63f0be2e",
   "metadata": {},
   "source": [
    "### 4. Build the LSTM Model "
   ]
  },
  {
   "cell_type": "code",
   "execution_count": 118,
   "id": "a449a27d",
   "metadata": {},
   "outputs": [],
   "source": [
    "model = Sequential()\n",
    "model.add(LSTM(50, return_sequences=True, input_shape=(x_train.shape[1], 1)))\n",
    "model.add(LSTM(50, return_sequences=False))\n",
    "model.add(Dense(25))\n",
    "model.add(Dense(1))"
   ]
  },
  {
   "cell_type": "markdown",
   "id": "881cf728",
   "metadata": {},
   "source": [
    "### 5. Compile the model "
   ]
  },
  {
   "cell_type": "code",
   "execution_count": 119,
   "id": "f5d4bbad",
   "metadata": {},
   "outputs": [],
   "source": [
    "model.compile(optimizer='adam', loss='mean_squared_error') # adam optimizer"
   ]
  },
  {
   "cell_type": "markdown",
   "id": "858116ae",
   "metadata": {},
   "source": [
    "### 6. Train the model "
   ]
  },
  {
   "cell_type": "code",
   "execution_count": 120,
   "id": "c36853dd",
   "metadata": {},
   "outputs": [
    {
     "name": "stdout",
     "output_type": "stream",
     "text": [
      "Epoch 1/4\n",
      "1352/1352 [==============================] - 31s 21ms/step - loss: 8.4802e-04\n",
      "Epoch 2/4\n",
      "1352/1352 [==============================] - 27s 20ms/step - loss: 4.0939e-04\n",
      "Epoch 3/4\n",
      "1352/1352 [==============================] - 29s 21ms/step - loss: 3.2701e-04\n",
      "Epoch 4/4\n",
      "1352/1352 [==============================] - 29s 22ms/step - loss: 2.8310e-04\n"
     ]
    },
    {
     "data": {
      "text/plain": [
       "<keras.callbacks.History at 0x2551e51dfa0>"
      ]
     },
     "execution_count": 120,
     "metadata": {},
     "output_type": "execute_result"
    }
   ],
   "source": [
    "model.fit(x_train, y_train, batch_size=1, epochs=4)"
   ]
  },
  {
   "cell_type": "markdown",
   "id": "7e56124f",
   "metadata": {},
   "source": [
    "### 7. Create the testing dataset "
   ]
  },
  {
   "cell_type": "code",
   "execution_count": 121,
   "id": "0e72a0e9",
   "metadata": {},
   "outputs": [],
   "source": [
    "#Create a new array containing scaled values from index 1644 to 2004\n",
    "test_data = scaled_data[training_data_len - 60:, :]\n",
    "#Now create the datasets x_test & y_test\n",
    "x_test = []\n",
    "y_test = dataset[training_data_len:, :]\n",
    "for i in range(60, len(test_data)):\n",
    "    x_test.append(test_data[i-60:i, 0])"
   ]
  },
  {
   "cell_type": "code",
   "execution_count": 122,
   "id": "c9e0f439",
   "metadata": {},
   "outputs": [],
   "source": [
    "#convert the above dataset to a numpy array:\n",
    "x_test = np.array(x_test)"
   ]
  },
  {
   "cell_type": "code",
   "execution_count": 123,
   "id": "120501d2",
   "metadata": {},
   "outputs": [],
   "source": [
    "#Reshape the above converted dataset\n",
    "x_test = np.reshape(x_test, (x_test.shape[0], x_test.shape[1], 1))"
   ]
  },
  {
   "cell_type": "markdown",
   "id": "0687cdae",
   "metadata": {},
   "source": [
    "### 8. Get the models predicted price values for x_test dataset"
   ]
  },
  {
   "cell_type": "code",
   "execution_count": 124,
   "id": "ebcd2294",
   "metadata": {},
   "outputs": [
    {
     "name": "stdout",
     "output_type": "stream",
     "text": [
      "11/11 [==============================] - 2s 18ms/step\n"
     ]
    }
   ],
   "source": [
    "predictions = model.predict(x_test) \n",
    "#Make inverse transform the above data to get x_test dataset:\n",
    "Inv_predictions = scaler.inverse_transform(predictions)"
   ]
  },
  {
   "cell_type": "code",
   "execution_count": 125,
   "id": "e8072d8c",
   "metadata": {},
   "outputs": [
    {
     "name": "stdout",
     "output_type": "stream",
     "text": [
      "1.1894726103002375\n"
     ]
    }
   ],
   "source": [
    "#Calculate the RMSE\n",
    "RMSE = np.sqrt(np.mean(Inv_predictions - y_test)**2)\n",
    "print(RMSE)"
   ]
  },
  {
   "cell_type": "markdown",
   "id": "a20626c5",
   "metadata": {},
   "source": [
    "### 9. Plot the result for visualization   "
   ]
  },
  {
   "cell_type": "code",
   "execution_count": 126,
   "id": "2d45613f",
   "metadata": {},
   "outputs": [
    {
     "name": "stderr",
     "output_type": "stream",
     "text": [
      "C:\\Users\\HP\\AppData\\Local\\Temp\\ipykernel_9708\\3165522403.py:3: SettingWithCopyWarning: \n",
      "A value is trying to be set on a copy of a slice from a DataFrame.\n",
      "Try using .loc[row_indexer,col_indexer] = value instead\n",
      "\n",
      "See the caveats in the documentation: https://pandas.pydata.org/pandas-docs/stable/user_guide/indexing.html#returning-a-view-versus-a-copy\n",
      "  valid['Predictions'] = Inv_predictions\n"
     ]
    },
    {
     "data": {
      "image/png": "[encoded data removed]",
      "text/plain": [
       "<Figure size 1152x576 with 1 Axes>"
      ]
     },
     "metadata": {
      "needs_background": "light"
     },
     "output_type": "display_data"
    }
   ],
   "source": [
    "train = data[:training_data_len]\n",
    "valid = data[training_data_len:]\n",
    "valid['Predictions'] = Inv_predictions\n",
    "#Plotting\n",
    "plt.figure(figsize=(16,8))\n",
    "plt.title('Trained Model')\n",
    "plt.xlabel('Years', fontsize=16)\n",
    "plt.ylabel('Close Price in $', fontsize=16)\n",
    "plt.plot(train['Close'])\n",
    "plt.plot(valid[['Close', 'Predictions']])\n",
    "plt.legend(['Actual Value', 'Trained_Val', 'Predictions'], loc='lower right')\n",
    "plt.show()"
   ]
  },
  {
   "cell_type": "markdown",
   "id": "72f5fa7e",
   "metadata": {},
   "source": [
    "### 10. Show the Trained valid values VS Predicted values/prices "
   ]
  },
  {
   "cell_type": "code",
   "execution_count": 128,
   "id": "c769354d",
   "metadata": {},
   "outputs": [
    {
     "name": "stdout",
     "output_type": "stream",
     "text": [
      "                 Close  Predictions\n",
      "Date                               \n",
      "2020-11-10  115.970001   119.408218\n",
      "2020-11-11  119.489998   118.868034\n",
      "2020-11-12  119.209999   119.729073\n",
      "2020-11-13  119.260002   120.405998\n",
      "2020-11-16  120.300003   120.799591\n",
      "...                ...          ...\n",
      "2022-03-29  178.960007   175.933411\n",
      "2022-03-30  177.770004   177.869308\n",
      "2022-03-31  174.610001   178.494080\n",
      "2022-04-01  174.309998   177.138184\n",
      "2022-04-04  178.440002   175.808258\n",
      "\n",
      "[352 rows x 2 columns]\n"
     ]
    }
   ],
   "source": [
    "print(valid) # In USD $"
   ]
  },
  {
   "cell_type": "markdown",
   "id": "d9d99b95",
   "metadata": {},
   "source": [
    "### 11. For single day data "
   ]
  },
  {
   "cell_type": "code",
   "execution_count": 129,
   "id": "03ddcacc",
   "metadata": {},
   "outputs": [
    {
     "name": "stdout",
     "output_type": "stream",
     "text": [
      "1/1 [==============================] - 1s 866ms/step\n",
      "[[176.86534]]\n"
     ]
    }
   ],
   "source": [
    "#get the data/quote\n",
    "apple_quote = web.DataReader('AAPL', data_source = 'yahoo', start='2015-04-04', end='2022-04-04')\n",
    "#new data frame\n",
    "new_df = apple_quote.filter(['Close'])\n",
    "#Get the last 60 day closing price value in numpy array form\n",
    "last_60_days = new_df[-60:].values\n",
    "#Scale it to 0-1\n",
    "last_60_days_scaled = scaler.transform(last_60_days)\n",
    "#creat empty list\n",
    "X_test = []\n",
    "#append the above values\n",
    "X_test.append(last_60_days_scaled)\n",
    "#convert the above data to numpy array\n",
    "X_test = np.array(X_test)\n",
    "#reshape to 3D\n",
    "X_test = np.reshape(X_test, (X_test.shape[0], X_test.shape[1], 1))\n",
    "#get the predicted scaled price\n",
    "predicted_price = model.predict(X_test)\n",
    "#Undo the sacling\n",
    "predicted_price = scaler.inverse_transform(predicted_price)\n",
    "print(predicted_price)    # Gives the pr=ediction for 2022-04-05"
   ]
  },
  {
   "cell_type": "code",
   "execution_count": 130,
   "id": "b11de602",
   "metadata": {},
   "outputs": [
    {
     "name": "stdout",
     "output_type": "stream",
     "text": [
      "                 Close\n",
      "Date                  \n",
      "2022-04-05  175.059998\n"
     ]
    }
   ],
   "source": [
    "# The actual price for 2022-04-05 is:\n",
    "apple_act_quote = web.DataReader('AAPL', data_source = 'yahoo', start='2022-04-05', end='2022-04-05')\n",
    "apple_act_quote = apple_act_quote.filter(['Close'])\n",
    "print(apple_act_quote)"
   ]
  },
  {
   "cell_type": "code",
   "execution_count": 131,
   "id": "db89c756",
   "metadata": {},
   "outputs": [
    {
     "name": "stdout",
     "output_type": "stream",
     "text": [
      "               Close\n",
      "Date                \n",
      "2022-04-05  1.805344\n"
     ]
    }
   ],
   "source": [
    "#The difference between these prediction an dactual value is:\n",
    "difference = predicted_price - apple_act_quote\n",
    "print(difference)"
   ]
  },
  {
   "cell_type": "code",
   "execution_count": null,
   "id": "bf7e585d",
   "metadata": {},
   "outputs": [],
   "source": []
  }
 ],
 "metadata": {
  "kernelspec": {
   "display_name": "prediction",
   "language": "python",
   "name": "prediction"
  },
  "language_info": {
   "codemirror_mode": {
    "name": "ipython",
    "version": 3
   },
   "file_extension": ".py",
   "mimetype": "text/x-python",
   "name": "python",
   "nbconvert_exporter": "python",
   "pygments_lexer": "ipython3",
   "version": "3.9.7"
  }
 },
 "nbformat": 4,
 "nbformat_minor": 5
}
